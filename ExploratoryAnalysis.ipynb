{
 "cells": [
  {
   "cell_type": "code",
   "execution_count": 1,
   "id": "3d17397c-335a-4c7c-a61a-5f761cb195cb",
   "metadata": {},
   "outputs": [],
   "source": [
    "import pandas as pd\n",
    "import numpy as np\n",
    "import matplotlib.pyplot as plt"
   ]
  },
  {
   "cell_type": "code",
   "execution_count": 2,
   "id": "a8f7eb63-0930-4898-8df8-175a7d94b971",
   "metadata": {},
   "outputs": [],
   "source": [
    "games_df = pd.read_csv(\"games.csv\")\n",
    "player_play_df = pd.read_csv(\"player_play.csv\")\n",
    "players_df = pd.read_csv(\"players.csv\")\n",
    "plays_df = pd.read_csv(\"plays.csv\")"
   ]
  },
  {
   "cell_type": "code",
   "execution_count": 3,
   "id": "f7e260ea-207d-468e-88ab-c08ff81cb5be",
   "metadata": {},
   "outputs": [
    {
     "data": {
      "text/html": [
       "<div>\n",
       "<style scoped>\n",
       "    .dataframe tbody tr th:only-of-type {\n",
       "        vertical-align: middle;\n",
       "    }\n",
       "\n",
       "    .dataframe tbody tr th {\n",
       "        vertical-align: top;\n",
       "    }\n",
       "\n",
       "    .dataframe thead th {\n",
       "        text-align: right;\n",
       "    }\n",
       "</style>\n",
       "<table border=\"1\" class=\"dataframe\">\n",
       "  <thead>\n",
       "    <tr style=\"text-align: right;\">\n",
       "      <th></th>\n",
       "      <th>gameId</th>\n",
       "      <th>season</th>\n",
       "      <th>week</th>\n",
       "      <th>gameDate</th>\n",
       "      <th>gameTimeEastern</th>\n",
       "      <th>homeTeamAbbr</th>\n",
       "      <th>visitorTeamAbbr</th>\n",
       "      <th>homeFinalScore</th>\n",
       "      <th>visitorFinalScore</th>\n",
       "    </tr>\n",
       "  </thead>\n",
       "  <tbody>\n",
       "    <tr>\n",
       "      <th>0</th>\n",
       "      <td>2022090800</td>\n",
       "      <td>2022</td>\n",
       "      <td>1</td>\n",
       "      <td>9/8/2022</td>\n",
       "      <td>20:20:00</td>\n",
       "      <td>LA</td>\n",
       "      <td>BUF</td>\n",
       "      <td>10</td>\n",
       "      <td>31</td>\n",
       "    </tr>\n",
       "    <tr>\n",
       "      <th>1</th>\n",
       "      <td>2022091100</td>\n",
       "      <td>2022</td>\n",
       "      <td>1</td>\n",
       "      <td>9/11/2022</td>\n",
       "      <td>13:00:00</td>\n",
       "      <td>ATL</td>\n",
       "      <td>NO</td>\n",
       "      <td>26</td>\n",
       "      <td>27</td>\n",
       "    </tr>\n",
       "    <tr>\n",
       "      <th>2</th>\n",
       "      <td>2022091101</td>\n",
       "      <td>2022</td>\n",
       "      <td>1</td>\n",
       "      <td>9/11/2022</td>\n",
       "      <td>13:00:00</td>\n",
       "      <td>CAR</td>\n",
       "      <td>CLE</td>\n",
       "      <td>24</td>\n",
       "      <td>26</td>\n",
       "    </tr>\n",
       "    <tr>\n",
       "      <th>3</th>\n",
       "      <td>2022091102</td>\n",
       "      <td>2022</td>\n",
       "      <td>1</td>\n",
       "      <td>9/11/2022</td>\n",
       "      <td>13:00:00</td>\n",
       "      <td>CHI</td>\n",
       "      <td>SF</td>\n",
       "      <td>19</td>\n",
       "      <td>10</td>\n",
       "    </tr>\n",
       "    <tr>\n",
       "      <th>4</th>\n",
       "      <td>2022091103</td>\n",
       "      <td>2022</td>\n",
       "      <td>1</td>\n",
       "      <td>9/11/2022</td>\n",
       "      <td>13:00:00</td>\n",
       "      <td>CIN</td>\n",
       "      <td>PIT</td>\n",
       "      <td>20</td>\n",
       "      <td>23</td>\n",
       "    </tr>\n",
       "  </tbody>\n",
       "</table>\n",
       "</div>"
      ],
      "text/plain": [
       "       gameId  season  week   gameDate gameTimeEastern homeTeamAbbr  \\\n",
       "0  2022090800    2022     1   9/8/2022        20:20:00           LA   \n",
       "1  2022091100    2022     1  9/11/2022        13:00:00          ATL   \n",
       "2  2022091101    2022     1  9/11/2022        13:00:00          CAR   \n",
       "3  2022091102    2022     1  9/11/2022        13:00:00          CHI   \n",
       "4  2022091103    2022     1  9/11/2022        13:00:00          CIN   \n",
       "\n",
       "  visitorTeamAbbr  homeFinalScore  visitorFinalScore  \n",
       "0             BUF              10                 31  \n",
       "1              NO              26                 27  \n",
       "2             CLE              24                 26  \n",
       "3              SF              19                 10  \n",
       "4             PIT              20                 23  "
      ]
     },
     "execution_count": 3,
     "metadata": {},
     "output_type": "execute_result"
    }
   ],
   "source": [
    "games_df.head()"
   ]
  },
  {
   "cell_type": "code",
   "execution_count": 4,
   "id": "545472ad-4e1d-4e45-a971-e9f320096d28",
   "metadata": {},
   "outputs": [
    {
     "data": {
      "text/plain": [
       "Index(['gameId', 'season', 'week', 'gameDate', 'gameTimeEastern',\n",
       "       'homeTeamAbbr', 'visitorTeamAbbr', 'homeFinalScore',\n",
       "       'visitorFinalScore'],\n",
       "      dtype='object')"
      ]
     },
     "execution_count": 4,
     "metadata": {},
     "output_type": "execute_result"
    }
   ],
   "source": [
    "games_df.columns"
   ]
  },
  {
   "cell_type": "code",
   "execution_count": 5,
   "id": "6f410fd4-2e72-4721-a99f-5adea15087cd",
   "metadata": {},
   "outputs": [
    {
     "data": {
      "text/html": [
       "<div>\n",
       "<style scoped>\n",
       "    .dataframe tbody tr th:only-of-type {\n",
       "        vertical-align: middle;\n",
       "    }\n",
       "\n",
       "    .dataframe tbody tr th {\n",
       "        vertical-align: top;\n",
       "    }\n",
       "\n",
       "    .dataframe thead th {\n",
       "        text-align: right;\n",
       "    }\n",
       "</style>\n",
       "<table border=\"1\" class=\"dataframe\">\n",
       "  <thead>\n",
       "    <tr style=\"text-align: right;\">\n",
       "      <th></th>\n",
       "      <th>gameId</th>\n",
       "      <th>playId</th>\n",
       "      <th>nflId</th>\n",
       "      <th>teamAbbr</th>\n",
       "      <th>hadRushAttempt</th>\n",
       "      <th>rushingYards</th>\n",
       "      <th>hadDropback</th>\n",
       "      <th>passingYards</th>\n",
       "      <th>sackYardsAsOffense</th>\n",
       "      <th>hadPassReception</th>\n",
       "      <th>...</th>\n",
       "      <th>wasRunningRoute</th>\n",
       "      <th>routeRan</th>\n",
       "      <th>blockedPlayerNFLId1</th>\n",
       "      <th>blockedPlayerNFLId2</th>\n",
       "      <th>blockedPlayerNFLId3</th>\n",
       "      <th>pressureAllowedAsBlocker</th>\n",
       "      <th>timeToPressureAllowedAsBlocker</th>\n",
       "      <th>pff_defensiveCoverageAssignment</th>\n",
       "      <th>pff_primaryDefensiveCoverageMatchupNflId</th>\n",
       "      <th>pff_secondaryDefensiveCoverageMatchupNflId</th>\n",
       "    </tr>\n",
       "  </thead>\n",
       "  <tbody>\n",
       "    <tr>\n",
       "      <th>0</th>\n",
       "      <td>2022090800</td>\n",
       "      <td>56</td>\n",
       "      <td>35472</td>\n",
       "      <td>BUF</td>\n",
       "      <td>0</td>\n",
       "      <td>0</td>\n",
       "      <td>0</td>\n",
       "      <td>0</td>\n",
       "      <td>0</td>\n",
       "      <td>0</td>\n",
       "      <td>...</td>\n",
       "      <td>NaN</td>\n",
       "      <td>NaN</td>\n",
       "      <td>47917.0</td>\n",
       "      <td>NaN</td>\n",
       "      <td>NaN</td>\n",
       "      <td>0.0</td>\n",
       "      <td>NaN</td>\n",
       "      <td>NaN</td>\n",
       "      <td>NaN</td>\n",
       "      <td>NaN</td>\n",
       "    </tr>\n",
       "    <tr>\n",
       "      <th>1</th>\n",
       "      <td>2022090800</td>\n",
       "      <td>56</td>\n",
       "      <td>42392</td>\n",
       "      <td>BUF</td>\n",
       "      <td>0</td>\n",
       "      <td>0</td>\n",
       "      <td>0</td>\n",
       "      <td>0</td>\n",
       "      <td>0</td>\n",
       "      <td>0</td>\n",
       "      <td>...</td>\n",
       "      <td>NaN</td>\n",
       "      <td>NaN</td>\n",
       "      <td>47917.0</td>\n",
       "      <td>NaN</td>\n",
       "      <td>NaN</td>\n",
       "      <td>0.0</td>\n",
       "      <td>NaN</td>\n",
       "      <td>NaN</td>\n",
       "      <td>NaN</td>\n",
       "      <td>NaN</td>\n",
       "    </tr>\n",
       "    <tr>\n",
       "      <th>2</th>\n",
       "      <td>2022090800</td>\n",
       "      <td>56</td>\n",
       "      <td>42489</td>\n",
       "      <td>BUF</td>\n",
       "      <td>0</td>\n",
       "      <td>0</td>\n",
       "      <td>0</td>\n",
       "      <td>0</td>\n",
       "      <td>0</td>\n",
       "      <td>1</td>\n",
       "      <td>...</td>\n",
       "      <td>1.0</td>\n",
       "      <td>IN</td>\n",
       "      <td>NaN</td>\n",
       "      <td>NaN</td>\n",
       "      <td>NaN</td>\n",
       "      <td>NaN</td>\n",
       "      <td>NaN</td>\n",
       "      <td>NaN</td>\n",
       "      <td>NaN</td>\n",
       "      <td>NaN</td>\n",
       "    </tr>\n",
       "    <tr>\n",
       "      <th>3</th>\n",
       "      <td>2022090800</td>\n",
       "      <td>56</td>\n",
       "      <td>44875</td>\n",
       "      <td>BUF</td>\n",
       "      <td>0</td>\n",
       "      <td>0</td>\n",
       "      <td>0</td>\n",
       "      <td>0</td>\n",
       "      <td>0</td>\n",
       "      <td>0</td>\n",
       "      <td>...</td>\n",
       "      <td>NaN</td>\n",
       "      <td>NaN</td>\n",
       "      <td>43335.0</td>\n",
       "      <td>NaN</td>\n",
       "      <td>NaN</td>\n",
       "      <td>0.0</td>\n",
       "      <td>NaN</td>\n",
       "      <td>NaN</td>\n",
       "      <td>NaN</td>\n",
       "      <td>NaN</td>\n",
       "    </tr>\n",
       "    <tr>\n",
       "      <th>4</th>\n",
       "      <td>2022090800</td>\n",
       "      <td>56</td>\n",
       "      <td>44985</td>\n",
       "      <td>BUF</td>\n",
       "      <td>0</td>\n",
       "      <td>0</td>\n",
       "      <td>0</td>\n",
       "      <td>0</td>\n",
       "      <td>0</td>\n",
       "      <td>0</td>\n",
       "      <td>...</td>\n",
       "      <td>1.0</td>\n",
       "      <td>OUT</td>\n",
       "      <td>NaN</td>\n",
       "      <td>NaN</td>\n",
       "      <td>NaN</td>\n",
       "      <td>NaN</td>\n",
       "      <td>NaN</td>\n",
       "      <td>NaN</td>\n",
       "      <td>NaN</td>\n",
       "      <td>NaN</td>\n",
       "    </tr>\n",
       "  </tbody>\n",
       "</table>\n",
       "<p>5 rows × 50 columns</p>\n",
       "</div>"
      ],
      "text/plain": [
       "       gameId  playId  nflId teamAbbr  hadRushAttempt  rushingYards  \\\n",
       "0  2022090800      56  35472      BUF               0             0   \n",
       "1  2022090800      56  42392      BUF               0             0   \n",
       "2  2022090800      56  42489      BUF               0             0   \n",
       "3  2022090800      56  44875      BUF               0             0   \n",
       "4  2022090800      56  44985      BUF               0             0   \n",
       "\n",
       "   hadDropback  passingYards  sackYardsAsOffense  hadPassReception  ...  \\\n",
       "0            0             0                   0                 0  ...   \n",
       "1            0             0                   0                 0  ...   \n",
       "2            0             0                   0                 1  ...   \n",
       "3            0             0                   0                 0  ...   \n",
       "4            0             0                   0                 0  ...   \n",
       "\n",
       "   wasRunningRoute  routeRan  blockedPlayerNFLId1  blockedPlayerNFLId2  \\\n",
       "0              NaN       NaN              47917.0                  NaN   \n",
       "1              NaN       NaN              47917.0                  NaN   \n",
       "2              1.0        IN                  NaN                  NaN   \n",
       "3              NaN       NaN              43335.0                  NaN   \n",
       "4              1.0       OUT                  NaN                  NaN   \n",
       "\n",
       "   blockedPlayerNFLId3  pressureAllowedAsBlocker  \\\n",
       "0                  NaN                       0.0   \n",
       "1                  NaN                       0.0   \n",
       "2                  NaN                       NaN   \n",
       "3                  NaN                       0.0   \n",
       "4                  NaN                       NaN   \n",
       "\n",
       "   timeToPressureAllowedAsBlocker  pff_defensiveCoverageAssignment  \\\n",
       "0                             NaN                              NaN   \n",
       "1                             NaN                              NaN   \n",
       "2                             NaN                              NaN   \n",
       "3                             NaN                              NaN   \n",
       "4                             NaN                              NaN   \n",
       "\n",
       "   pff_primaryDefensiveCoverageMatchupNflId  \\\n",
       "0                                       NaN   \n",
       "1                                       NaN   \n",
       "2                                       NaN   \n",
       "3                                       NaN   \n",
       "4                                       NaN   \n",
       "\n",
       "   pff_secondaryDefensiveCoverageMatchupNflId  \n",
       "0                                         NaN  \n",
       "1                                         NaN  \n",
       "2                                         NaN  \n",
       "3                                         NaN  \n",
       "4                                         NaN  \n",
       "\n",
       "[5 rows x 50 columns]"
      ]
     },
     "execution_count": 5,
     "metadata": {},
     "output_type": "execute_result"
    }
   ],
   "source": [
    "player_play_df.head()"
   ]
  },
  {
   "cell_type": "code",
   "execution_count": 6,
   "id": "e68bec89-753e-4320-857f-e35f6e4b3c69",
   "metadata": {},
   "outputs": [
    {
     "data": {
      "text/plain": [
       "Index(['gameId', 'playId', 'nflId', 'teamAbbr', 'hadRushAttempt',\n",
       "       'rushingYards', 'hadDropback', 'passingYards', 'sackYardsAsOffense',\n",
       "       'hadPassReception', 'receivingYards', 'wasTargettedReceiver',\n",
       "       'yardageGainedAfterTheCatch', 'fumbles', 'fumbleLost',\n",
       "       'fumbleOutOfBounds', 'assistedTackle', 'forcedFumbleAsDefense',\n",
       "       'halfSackYardsAsDefense', 'passDefensed', 'quarterbackHit',\n",
       "       'sackYardsAsDefense', 'safetyAsDefense', 'soloTackle', 'tackleAssist',\n",
       "       'tackleForALoss', 'tackleForALossYardage', 'hadInterception',\n",
       "       'interceptionYards', 'fumbleRecoveries', 'fumbleRecoveryYards',\n",
       "       'penaltyYards', 'penaltyNames', 'wasInitialPassRusher',\n",
       "       'causedPressure', 'timeToPressureAsPassRusher',\n",
       "       'getOffTimeAsPassRusher', 'inMotionAtBallSnap', 'shiftSinceLineset',\n",
       "       'motionSinceLineset', 'wasRunningRoute', 'routeRan',\n",
       "       'blockedPlayerNFLId1', 'blockedPlayerNFLId2', 'blockedPlayerNFLId3',\n",
       "       'pressureAllowedAsBlocker', 'timeToPressureAllowedAsBlocker',\n",
       "       'pff_defensiveCoverageAssignment',\n",
       "       'pff_primaryDefensiveCoverageMatchupNflId',\n",
       "       'pff_secondaryDefensiveCoverageMatchupNflId'],\n",
       "      dtype='object')"
      ]
     },
     "execution_count": 6,
     "metadata": {},
     "output_type": "execute_result"
    }
   ],
   "source": [
    "player_play_df.columns"
   ]
  },
  {
   "cell_type": "code",
   "execution_count": 7,
   "id": "e6a12476-b3bf-45de-9b15-b1a54afae09d",
   "metadata": {},
   "outputs": [
    {
     "data": {
      "text/html": [
       "<div>\n",
       "<style scoped>\n",
       "    .dataframe tbody tr th:only-of-type {\n",
       "        vertical-align: middle;\n",
       "    }\n",
       "\n",
       "    .dataframe tbody tr th {\n",
       "        vertical-align: top;\n",
       "    }\n",
       "\n",
       "    .dataframe thead th {\n",
       "        text-align: right;\n",
       "    }\n",
       "</style>\n",
       "<table border=\"1\" class=\"dataframe\">\n",
       "  <thead>\n",
       "    <tr style=\"text-align: right;\">\n",
       "      <th></th>\n",
       "      <th>nflId</th>\n",
       "      <th>height</th>\n",
       "      <th>weight</th>\n",
       "      <th>birthDate</th>\n",
       "      <th>collegeName</th>\n",
       "      <th>position</th>\n",
       "      <th>displayName</th>\n",
       "    </tr>\n",
       "  </thead>\n",
       "  <tbody>\n",
       "    <tr>\n",
       "      <th>0</th>\n",
       "      <td>25511</td>\n",
       "      <td>6-4</td>\n",
       "      <td>225</td>\n",
       "      <td>1977-08-03</td>\n",
       "      <td>Michigan</td>\n",
       "      <td>QB</td>\n",
       "      <td>Tom Brady</td>\n",
       "    </tr>\n",
       "    <tr>\n",
       "      <th>1</th>\n",
       "      <td>29550</td>\n",
       "      <td>6-4</td>\n",
       "      <td>328</td>\n",
       "      <td>1982-01-22</td>\n",
       "      <td>Arkansas</td>\n",
       "      <td>T</td>\n",
       "      <td>Jason Peters</td>\n",
       "    </tr>\n",
       "    <tr>\n",
       "      <th>2</th>\n",
       "      <td>29851</td>\n",
       "      <td>6-2</td>\n",
       "      <td>225</td>\n",
       "      <td>1983-12-02</td>\n",
       "      <td>California</td>\n",
       "      <td>QB</td>\n",
       "      <td>Aaron Rodgers</td>\n",
       "    </tr>\n",
       "    <tr>\n",
       "      <th>3</th>\n",
       "      <td>30842</td>\n",
       "      <td>6-6</td>\n",
       "      <td>267</td>\n",
       "      <td>1984-05-19</td>\n",
       "      <td>UCLA</td>\n",
       "      <td>TE</td>\n",
       "      <td>Marcedes Lewis</td>\n",
       "    </tr>\n",
       "    <tr>\n",
       "      <th>4</th>\n",
       "      <td>33084</td>\n",
       "      <td>6-4</td>\n",
       "      <td>217</td>\n",
       "      <td>1985-05-17</td>\n",
       "      <td>Boston College</td>\n",
       "      <td>QB</td>\n",
       "      <td>Matt Ryan</td>\n",
       "    </tr>\n",
       "  </tbody>\n",
       "</table>\n",
       "</div>"
      ],
      "text/plain": [
       "   nflId height  weight   birthDate     collegeName position     displayName\n",
       "0  25511    6-4     225  1977-08-03        Michigan       QB       Tom Brady\n",
       "1  29550    6-4     328  1982-01-22        Arkansas        T    Jason Peters\n",
       "2  29851    6-2     225  1983-12-02      California       QB   Aaron Rodgers\n",
       "3  30842    6-6     267  1984-05-19            UCLA       TE  Marcedes Lewis\n",
       "4  33084    6-4     217  1985-05-17  Boston College       QB       Matt Ryan"
      ]
     },
     "execution_count": 7,
     "metadata": {},
     "output_type": "execute_result"
    }
   ],
   "source": [
    "players_df.head()"
   ]
  },
  {
   "cell_type": "code",
   "execution_count": 8,
   "id": "6e284910-0eff-4696-9492-c7328cd4f581",
   "metadata": {},
   "outputs": [
    {
     "data": {
      "text/plain": [
       "Index(['nflId', 'height', 'weight', 'birthDate', 'collegeName', 'position',\n",
       "       'displayName'],\n",
       "      dtype='object')"
      ]
     },
     "execution_count": 8,
     "metadata": {},
     "output_type": "execute_result"
    }
   ],
   "source": [
    "players_df.columns"
   ]
  },
  {
   "cell_type": "code",
   "execution_count": 9,
   "id": "32470234-ffb0-4406-8cce-72085b4c3a88",
   "metadata": {},
   "outputs": [
    {
     "data": {
      "text/html": [
       "<div>\n",
       "<style scoped>\n",
       "    .dataframe tbody tr th:only-of-type {\n",
       "        vertical-align: middle;\n",
       "    }\n",
       "\n",
       "    .dataframe tbody tr th {\n",
       "        vertical-align: top;\n",
       "    }\n",
       "\n",
       "    .dataframe thead th {\n",
       "        text-align: right;\n",
       "    }\n",
       "</style>\n",
       "<table border=\"1\" class=\"dataframe\">\n",
       "  <thead>\n",
       "    <tr style=\"text-align: right;\">\n",
       "      <th></th>\n",
       "      <th>gameId</th>\n",
       "      <th>playId</th>\n",
       "      <th>playDescription</th>\n",
       "      <th>quarter</th>\n",
       "      <th>down</th>\n",
       "      <th>yardsToGo</th>\n",
       "      <th>possessionTeam</th>\n",
       "      <th>defensiveTeam</th>\n",
       "      <th>yardlineSide</th>\n",
       "      <th>yardlineNumber</th>\n",
       "      <th>...</th>\n",
       "      <th>yardsGained</th>\n",
       "      <th>homeTeamWinProbabilityAdded</th>\n",
       "      <th>visitorTeamWinProbilityAdded</th>\n",
       "      <th>expectedPointsAdded</th>\n",
       "      <th>isDropback</th>\n",
       "      <th>pff_runConceptPrimary</th>\n",
       "      <th>pff_runConceptSecondary</th>\n",
       "      <th>pff_runPassOption</th>\n",
       "      <th>pff_passCoverage</th>\n",
       "      <th>pff_manZone</th>\n",
       "    </tr>\n",
       "  </thead>\n",
       "  <tbody>\n",
       "    <tr>\n",
       "      <th>0</th>\n",
       "      <td>2022102302</td>\n",
       "      <td>2655</td>\n",
       "      <td>(1:54) (Shotgun) J.Burrow pass short middle to...</td>\n",
       "      <td>3</td>\n",
       "      <td>1</td>\n",
       "      <td>10</td>\n",
       "      <td>CIN</td>\n",
       "      <td>ATL</td>\n",
       "      <td>CIN</td>\n",
       "      <td>21</td>\n",
       "      <td>...</td>\n",
       "      <td>9</td>\n",
       "      <td>0.004634</td>\n",
       "      <td>-0.004634</td>\n",
       "      <td>0.702717</td>\n",
       "      <td>True</td>\n",
       "      <td>NaN</td>\n",
       "      <td>NaN</td>\n",
       "      <td>0</td>\n",
       "      <td>Cover-3</td>\n",
       "      <td>Zone</td>\n",
       "    </tr>\n",
       "    <tr>\n",
       "      <th>1</th>\n",
       "      <td>2022091809</td>\n",
       "      <td>3698</td>\n",
       "      <td>(2:13) (Shotgun) J.Burrow pass short right to ...</td>\n",
       "      <td>4</td>\n",
       "      <td>1</td>\n",
       "      <td>10</td>\n",
       "      <td>CIN</td>\n",
       "      <td>DAL</td>\n",
       "      <td>CIN</td>\n",
       "      <td>8</td>\n",
       "      <td>...</td>\n",
       "      <td>4</td>\n",
       "      <td>0.002847</td>\n",
       "      <td>-0.002847</td>\n",
       "      <td>-0.240509</td>\n",
       "      <td>True</td>\n",
       "      <td>NaN</td>\n",
       "      <td>NaN</td>\n",
       "      <td>0</td>\n",
       "      <td>Quarters</td>\n",
       "      <td>Zone</td>\n",
       "    </tr>\n",
       "    <tr>\n",
       "      <th>2</th>\n",
       "      <td>2022103004</td>\n",
       "      <td>3146</td>\n",
       "      <td>(2:00) (Shotgun) D.Mills pass short right to D...</td>\n",
       "      <td>4</td>\n",
       "      <td>3</td>\n",
       "      <td>12</td>\n",
       "      <td>HOU</td>\n",
       "      <td>TEN</td>\n",
       "      <td>HOU</td>\n",
       "      <td>20</td>\n",
       "      <td>...</td>\n",
       "      <td>6</td>\n",
       "      <td>0.000205</td>\n",
       "      <td>-0.000205</td>\n",
       "      <td>-0.218480</td>\n",
       "      <td>True</td>\n",
       "      <td>NaN</td>\n",
       "      <td>NaN</td>\n",
       "      <td>0</td>\n",
       "      <td>Quarters</td>\n",
       "      <td>Zone</td>\n",
       "    </tr>\n",
       "    <tr>\n",
       "      <th>3</th>\n",
       "      <td>2022110610</td>\n",
       "      <td>348</td>\n",
       "      <td>(9:28) (Shotgun) P.Mahomes pass short left to ...</td>\n",
       "      <td>1</td>\n",
       "      <td>2</td>\n",
       "      <td>10</td>\n",
       "      <td>KC</td>\n",
       "      <td>TEN</td>\n",
       "      <td>TEN</td>\n",
       "      <td>23</td>\n",
       "      <td>...</td>\n",
       "      <td>4</td>\n",
       "      <td>-0.001308</td>\n",
       "      <td>0.001308</td>\n",
       "      <td>-0.427749</td>\n",
       "      <td>True</td>\n",
       "      <td>NaN</td>\n",
       "      <td>NaN</td>\n",
       "      <td>0</td>\n",
       "      <td>Quarters</td>\n",
       "      <td>Zone</td>\n",
       "    </tr>\n",
       "    <tr>\n",
       "      <th>4</th>\n",
       "      <td>2022102700</td>\n",
       "      <td>2799</td>\n",
       "      <td>(2:16) (Shotgun) L.Jackson up the middle to TB...</td>\n",
       "      <td>3</td>\n",
       "      <td>2</td>\n",
       "      <td>8</td>\n",
       "      <td>BAL</td>\n",
       "      <td>TB</td>\n",
       "      <td>TB</td>\n",
       "      <td>27</td>\n",
       "      <td>...</td>\n",
       "      <td>-1</td>\n",
       "      <td>0.027141</td>\n",
       "      <td>-0.027141</td>\n",
       "      <td>-0.638912</td>\n",
       "      <td>False</td>\n",
       "      <td>MAN</td>\n",
       "      <td>READ OPTION</td>\n",
       "      <td>0</td>\n",
       "      <td>Cover-1</td>\n",
       "      <td>Man</td>\n",
       "    </tr>\n",
       "  </tbody>\n",
       "</table>\n",
       "<p>5 rows × 50 columns</p>\n",
       "</div>"
      ],
      "text/plain": [
       "       gameId  playId                                    playDescription  \\\n",
       "0  2022102302    2655  (1:54) (Shotgun) J.Burrow pass short middle to...   \n",
       "1  2022091809    3698  (2:13) (Shotgun) J.Burrow pass short right to ...   \n",
       "2  2022103004    3146  (2:00) (Shotgun) D.Mills pass short right to D...   \n",
       "3  2022110610     348  (9:28) (Shotgun) P.Mahomes pass short left to ...   \n",
       "4  2022102700    2799  (2:16) (Shotgun) L.Jackson up the middle to TB...   \n",
       "\n",
       "   quarter  down  yardsToGo possessionTeam defensiveTeam yardlineSide  \\\n",
       "0        3     1         10            CIN           ATL          CIN   \n",
       "1        4     1         10            CIN           DAL          CIN   \n",
       "2        4     3         12            HOU           TEN          HOU   \n",
       "3        1     2         10             KC           TEN          TEN   \n",
       "4        3     2          8            BAL            TB           TB   \n",
       "\n",
       "   yardlineNumber  ... yardsGained  homeTeamWinProbabilityAdded  \\\n",
       "0              21  ...           9                     0.004634   \n",
       "1               8  ...           4                     0.002847   \n",
       "2              20  ...           6                     0.000205   \n",
       "3              23  ...           4                    -0.001308   \n",
       "4              27  ...          -1                     0.027141   \n",
       "\n",
       "   visitorTeamWinProbilityAdded expectedPointsAdded  isDropback  \\\n",
       "0                     -0.004634            0.702717        True   \n",
       "1                     -0.002847           -0.240509        True   \n",
       "2                     -0.000205           -0.218480        True   \n",
       "3                      0.001308           -0.427749        True   \n",
       "4                     -0.027141           -0.638912       False   \n",
       "\n",
       "   pff_runConceptPrimary  pff_runConceptSecondary  pff_runPassOption  \\\n",
       "0                    NaN                      NaN                  0   \n",
       "1                    NaN                      NaN                  0   \n",
       "2                    NaN                      NaN                  0   \n",
       "3                    NaN                      NaN                  0   \n",
       "4                    MAN              READ OPTION                  0   \n",
       "\n",
       "  pff_passCoverage pff_manZone  \n",
       "0          Cover-3        Zone  \n",
       "1         Quarters        Zone  \n",
       "2         Quarters        Zone  \n",
       "3         Quarters        Zone  \n",
       "4          Cover-1         Man  \n",
       "\n",
       "[5 rows x 50 columns]"
      ]
     },
     "execution_count": 9,
     "metadata": {},
     "output_type": "execute_result"
    }
   ],
   "source": [
    "plays_df.head()"
   ]
  },
  {
   "cell_type": "code",
   "execution_count": 10,
   "id": "6705e615-9913-44a7-98ae-0a9d16a4a110",
   "metadata": {},
   "outputs": [
    {
     "data": {
      "text/plain": [
       "Index(['gameId', 'playId', 'playDescription', 'quarter', 'down', 'yardsToGo',\n",
       "       'possessionTeam', 'defensiveTeam', 'yardlineSide', 'yardlineNumber',\n",
       "       'gameClock', 'preSnapHomeScore', 'preSnapVisitorScore',\n",
       "       'playNullifiedByPenalty', 'absoluteYardlineNumber',\n",
       "       'preSnapHomeTeamWinProbability', 'preSnapVisitorTeamWinProbability',\n",
       "       'expectedPoints', 'offenseFormation', 'receiverAlignment',\n",
       "       'playClockAtSnap', 'passResult', 'passLength', 'targetX', 'targetY',\n",
       "       'playAction', 'dropbackType', 'dropbackDistance', 'passLocationType',\n",
       "       'timeToThrow', 'timeInTackleBox', 'timeToSack', 'passTippedAtLine',\n",
       "       'unblockedPressure', 'qbSpike', 'qbKneel', 'qbSneak',\n",
       "       'rushLocationType', 'penaltyYards', 'prePenaltyYardsGained',\n",
       "       'yardsGained', 'homeTeamWinProbabilityAdded',\n",
       "       'visitorTeamWinProbilityAdded', 'expectedPointsAdded', 'isDropback',\n",
       "       'pff_runConceptPrimary', 'pff_runConceptSecondary', 'pff_runPassOption',\n",
       "       'pff_passCoverage', 'pff_manZone'],\n",
       "      dtype='object')"
      ]
     },
     "execution_count": 10,
     "metadata": {},
     "output_type": "execute_result"
    }
   ],
   "source": [
    "plays_df.columns"
   ]
  },
  {
   "cell_type": "code",
   "execution_count": 11,
   "id": "151261f9-a792-4e5a-9749-a087b6d07ef7",
   "metadata": {},
   "outputs": [
    {
     "data": {
      "image/png": "[encoded data removed]",
      "text/plain": [
       "<Figure size 432x288 with 1 Axes>"
      ]
     },
     "metadata": {
      "needs_background": "light"
     },
     "output_type": "display_data"
    }
   ],
   "source": [
    "pass_lengths = plays_df[\"passLength\"].copy()\n",
    "pass_lengths = pass_lengths.dropna()\n",
    "plt.hist(pass_lengths, bins=20)\n",
    "plt.title(\"Distribution of Pass Lengths\")\n",
    "plt.show()"
   ]
  },
  {
   "cell_type": "code",
   "execution_count": 12,
   "id": "0e55435f-1d21-41c7-afaf-609f3405d7bc",
   "metadata": {},
   "outputs": [
    {
     "data": {
      "text/plain": [
       "7.627320650928261"
      ]
     },
     "execution_count": 12,
     "metadata": {},
     "output_type": "execute_result"
    }
   ],
   "source": [
    "np.mean(pass_lengths)"
   ]
  },
  {
   "cell_type": "code",
   "execution_count": 13,
   "id": "6ace4eb4-f730-4b38-bce6-d149497e5ca9",
   "metadata": {},
   "outputs": [
    {
     "data": {
      "text/plain": [
       "5.0"
      ]
     },
     "execution_count": 13,
     "metadata": {},
     "output_type": "execute_result"
    }
   ],
   "source": [
    "np.median(pass_lengths)"
   ]
  },
  {
   "cell_type": "code",
   "execution_count": 14,
   "id": "f775386b-0dea-4171-8eab-c379a09f02a3",
   "metadata": {},
   "outputs": [
    {
     "data": {
      "text/plain": [
       "10.104065706199037"
      ]
     },
     "execution_count": 14,
     "metadata": {},
     "output_type": "execute_result"
    }
   ],
   "source": [
    "np.std(pass_lengths)"
   ]
  },
  {
   "cell_type": "code",
   "execution_count": 15,
   "id": "59676d05-3766-4a66-b1ba-8e3686661114",
   "metadata": {},
   "outputs": [],
   "source": [
    "pct_short_pass = sum(pass_lengths <= 5)/len(pass_lengths)\n",
    "pct_med_pass = sum((pass_lengths > 5) & (pass_lengths < 20))/len(pass_lengths)\n",
    "pct_long_pass = sum(pass_lengths >= 20)/len(pass_lengths)"
   ]
  },
  {
   "cell_type": "code",
   "execution_count": 16,
   "id": "56be0747-b1f4-4aae-928d-dc9ee46146a6",
   "metadata": {},
   "outputs": [
    {
     "data": {
      "text/plain": [
       "0.5315150126060051"
      ]
     },
     "execution_count": 16,
     "metadata": {},
     "output_type": "execute_result"
    }
   ],
   "source": [
    "pct_short_pass"
   ]
  },
  {
   "cell_type": "code",
   "execution_count": 17,
   "id": "5a0e42bf-3a64-4127-ae1f-6bff8cd5d7d9",
   "metadata": {},
   "outputs": [
    {
     "data": {
      "text/plain": [
       "0.35858354343341736"
      ]
     },
     "execution_count": 17,
     "metadata": {},
     "output_type": "execute_result"
    }
   ],
   "source": [
    "pct_med_pass"
   ]
  },
  {
   "cell_type": "code",
   "execution_count": 18,
   "id": "02e43e8f-74cd-4fe0-88a8-fec22274e59e",
   "metadata": {},
   "outputs": [
    {
     "data": {
      "text/plain": [
       "0.10990144396057759"
      ]
     },
     "execution_count": 18,
     "metadata": {},
     "output_type": "execute_result"
    }
   ],
   "source": [
    "pct_long_pass"
   ]
  },
  {
   "cell_type": "code",
   "execution_count": 19,
   "id": "bb1d9742-270c-42d0-ba2a-618ff1675763",
   "metadata": {},
   "outputs": [
    {
     "data": {
      "image/png": "[encoded data removed]",
      "text/plain": [
       "<Figure size 432x288 with 1 Axes>"
      ]
     },
     "metadata": {
      "needs_background": "light"
     },
     "output_type": "display_data"
    }
   ],
   "source": [
    "rush_location = plays_df[\"rushLocationType\"].copy()\n",
    "rush_location = rush_location.dropna()\n",
    "r_loc_x_ind = ['INSIDE_RIGHT', 'INSIDE_LEFT', 'OUTSIDE_RIGHT', 'OUTSIDE_LEFT', 'UNKNOWN']\n",
    "plt.barh(r_loc_x_ind, rush_location.value_counts())\n",
    "plt.show()"
   ]
  },
  {
   "cell_type": "code",
   "execution_count": 20,
   "id": "a33850d6-d8b5-46db-a977-8d9a9ce2ee64",
   "metadata": {},
   "outputs": [],
   "source": [
    "pct_uk = rush_location.value_counts()['UNKNOWN']/len(rush_location)\n",
    "pct_ol = rush_location.value_counts()['OUTSIDE_LEFT']/len(rush_location)\n",
    "pct_or = rush_location.value_counts()['OUTSIDE_RIGHT']/len(rush_location)\n",
    "pct_il = rush_location.value_counts()['INSIDE_LEFT']/len(rush_location)\n",
    "pct_ir = rush_location.value_counts()['INSIDE_RIGHT']/len(rush_location)"
   ]
  },
  {
   "cell_type": "code",
   "execution_count": 21,
   "id": "b2ba0967-612e-4fdd-a843-b5b4bffeb155",
   "metadata": {},
   "outputs": [
    {
     "data": {
      "text/plain": [
       "0.024307601649970537"
      ]
     },
     "execution_count": 21,
     "metadata": {},
     "output_type": "execute_result"
    }
   ],
   "source": [
    "pct_uk"
   ]
  },
  {
   "cell_type": "code",
   "execution_count": 22,
   "id": "87988838-a865-4926-8f60-8ba07b0854dc",
   "metadata": {},
   "outputs": [
    {
     "data": {
      "text/plain": [
       "0.18901001767825573"
      ]
     },
     "execution_count": 22,
     "metadata": {},
     "output_type": "execute_result"
    }
   ],
   "source": [
    "pct_ol"
   ]
  },
  {
   "cell_type": "code",
   "execution_count": 23,
   "id": "67bdde53-8624-480e-9784-0846a8bbc6c8",
   "metadata": {},
   "outputs": [
    {
     "data": {
      "text/plain": [
       "0.2165586328815557"
      ]
     },
     "execution_count": 23,
     "metadata": {},
     "output_type": "execute_result"
    }
   ],
   "source": [
    "pct_or"
   ]
  },
  {
   "cell_type": "code",
   "execution_count": 24,
   "id": "b610787f-e124-48d7-93b5-292b17edc6e8",
   "metadata": {},
   "outputs": [
    {
     "data": {
      "text/plain": [
       "0.2841779611078374"
      ]
     },
     "execution_count": 24,
     "metadata": {},
     "output_type": "execute_result"
    }
   ],
   "source": [
    "pct_il"
   ]
  },
  {
   "cell_type": "code",
   "execution_count": 25,
   "id": "d139199e-2a02-47d5-8c95-f30bbb08dd69",
   "metadata": {},
   "outputs": [
    {
     "data": {
      "text/plain": [
       "0.2859457866823807"
      ]
     },
     "execution_count": 25,
     "metadata": {},
     "output_type": "execute_result"
    }
   ],
   "source": [
    "pct_ir"
   ]
  },
  {
   "cell_type": "code",
   "execution_count": 26,
   "id": "730e5636-4623-4973-b1c8-faa0790620d2",
   "metadata": {},
   "outputs": [
    {
     "data": {
      "text/html": [
       "<div>\n",
       "<style scoped>\n",
       "    .dataframe tbody tr th:only-of-type {\n",
       "        vertical-align: middle;\n",
       "    }\n",
       "\n",
       "    .dataframe tbody tr th {\n",
       "        vertical-align: top;\n",
       "    }\n",
       "\n",
       "    .dataframe thead th {\n",
       "        text-align: right;\n",
       "    }\n",
       "</style>\n",
       "<table border=\"1\" class=\"dataframe\">\n",
       "  <thead>\n",
       "    <tr style=\"text-align: right;\">\n",
       "      <th></th>\n",
       "      <th>passLength</th>\n",
       "      <th>rushLocationType</th>\n",
       "    </tr>\n",
       "  </thead>\n",
       "  <tbody>\n",
       "    <tr>\n",
       "      <th>0</th>\n",
       "      <td>6.0</td>\n",
       "      <td>NaN</td>\n",
       "    </tr>\n",
       "    <tr>\n",
       "      <th>1</th>\n",
       "      <td>4.0</td>\n",
       "      <td>NaN</td>\n",
       "    </tr>\n",
       "    <tr>\n",
       "      <th>2</th>\n",
       "      <td>-4.0</td>\n",
       "      <td>NaN</td>\n",
       "    </tr>\n",
       "    <tr>\n",
       "      <th>3</th>\n",
       "      <td>-6.0</td>\n",
       "      <td>NaN</td>\n",
       "    </tr>\n",
       "    <tr>\n",
       "      <th>4</th>\n",
       "      <td>NaN</td>\n",
       "      <td>INSIDE_LEFT</td>\n",
       "    </tr>\n",
       "  </tbody>\n",
       "</table>\n",
       "</div>"
      ],
      "text/plain": [
       "   passLength rushLocationType\n",
       "0         6.0              NaN\n",
       "1         4.0              NaN\n",
       "2        -4.0              NaN\n",
       "3        -6.0              NaN\n",
       "4         NaN      INSIDE_LEFT"
      ]
     },
     "execution_count": 26,
     "metadata": {},
     "output_type": "execute_result"
    }
   ],
   "source": [
    "pass_run_plays_df = plays_df[[\"passLength\", \"rushLocationType\"]]\n",
    "pass_run_plays_df.head()"
   ]
  },
  {
   "cell_type": "code",
   "execution_count": 27,
   "id": "b22096be-9044-445b-9ec5-5f2c9b54e1a2",
   "metadata": {},
   "outputs": [],
   "source": [
    "def pass_categorize(l):\n",
    "    l = float(l)\n",
    "    if l <= 5:\n",
    "        return 'SHORT'\n",
    "    elif l > 5 and l < 20:\n",
    "        return 'MEDIUM'\n",
    "    elif l >= 20:\n",
    "        return 'LONG'\n",
    "    else:\n",
    "        return l"
   ]
  },
  {
   "cell_type": "code",
   "execution_count": 28,
   "id": "a08d9627-c9ca-4753-a397-d24ebf76786d",
   "metadata": {},
   "outputs": [
    {
     "name": "stderr",
     "output_type": "stream",
     "text": [
      "/var/folders/43/v_cnfjxd11q3dmtp_tbzws700000gn/T/ipykernel_38990/501007400.py:1: SettingWithCopyWarning: \n",
      "A value is trying to be set on a copy of a slice from a DataFrame.\n",
      "Try using .loc[row_indexer,col_indexer] = value instead\n",
      "\n",
      "See the caveats in the documentation: https://pandas.pydata.org/pandas-docs/stable/user_guide/indexing.html#returning-a-view-versus-a-copy\n",
      "  pass_run_plays_df['passLength'] = pass_run_plays_df['passLength'].apply(pass_categorize)\n"
     ]
    }
   ],
   "source": [
    "pass_run_plays_df['passLength'] = pass_run_plays_df['passLength'].apply(pass_categorize)"
   ]
  },
  {
   "cell_type": "code",
   "execution_count": 29,
   "id": "e11a685b-b12a-4576-9d2e-43da976265d5",
   "metadata": {},
   "outputs": [
    {
     "data": {
      "text/html": [
       "<div>\n",
       "<style scoped>\n",
       "    .dataframe tbody tr th:only-of-type {\n",
       "        vertical-align: middle;\n",
       "    }\n",
       "\n",
       "    .dataframe tbody tr th {\n",
       "        vertical-align: top;\n",
       "    }\n",
       "\n",
       "    .dataframe thead th {\n",
       "        text-align: right;\n",
       "    }\n",
       "</style>\n",
       "<table border=\"1\" class=\"dataframe\">\n",
       "  <thead>\n",
       "    <tr style=\"text-align: right;\">\n",
       "      <th></th>\n",
       "      <th>passLength</th>\n",
       "      <th>rushLocationType</th>\n",
       "    </tr>\n",
       "  </thead>\n",
       "  <tbody>\n",
       "    <tr>\n",
       "      <th>0</th>\n",
       "      <td>MEDIUM</td>\n",
       "      <td>NaN</td>\n",
       "    </tr>\n",
       "    <tr>\n",
       "      <th>1</th>\n",
       "      <td>SHORT</td>\n",
       "      <td>NaN</td>\n",
       "    </tr>\n",
       "    <tr>\n",
       "      <th>2</th>\n",
       "      <td>SHORT</td>\n",
       "      <td>NaN</td>\n",
       "    </tr>\n",
       "    <tr>\n",
       "      <th>3</th>\n",
       "      <td>SHORT</td>\n",
       "      <td>NaN</td>\n",
       "    </tr>\n",
       "    <tr>\n",
       "      <th>4</th>\n",
       "      <td>NaN</td>\n",
       "      <td>INSIDE_LEFT</td>\n",
       "    </tr>\n",
       "  </tbody>\n",
       "</table>\n",
       "</div>"
      ],
      "text/plain": [
       "  passLength rushLocationType\n",
       "0     MEDIUM              NaN\n",
       "1      SHORT              NaN\n",
       "2      SHORT              NaN\n",
       "3      SHORT              NaN\n",
       "4        NaN      INSIDE_LEFT"
      ]
     },
     "execution_count": 29,
     "metadata": {},
     "output_type": "execute_result"
    }
   ],
   "source": [
    "pass_run_plays_df.head()"
   ]
  },
  {
   "cell_type": "code",
   "execution_count": 30,
   "id": "609ab186-91bc-4e21-be64-0baaef160a61",
   "metadata": {},
   "outputs": [
    {
     "name": "stderr",
     "output_type": "stream",
     "text": [
      "/var/folders/43/v_cnfjxd11q3dmtp_tbzws700000gn/T/ipykernel_38990/4168206111.py:1: SettingWithCopyWarning: \n",
      "A value is trying to be set on a copy of a slice from a DataFrame.\n",
      "Try using .loc[row_indexer,col_indexer] = value instead\n",
      "\n",
      "See the caveats in the documentation: https://pandas.pydata.org/pandas-docs/stable/user_guide/indexing.html#returning-a-view-versus-a-copy\n",
      "  pass_run_plays_df[\"playType\"] = pass_run_plays_df['passLength'].combine_first(pass_run_plays_df['rushLocationType'])\n"
     ]
    },
    {
     "data": {
      "text/html": [
       "<div>\n",
       "<style scoped>\n",
       "    .dataframe tbody tr th:only-of-type {\n",
       "        vertical-align: middle;\n",
       "    }\n",
       "\n",
       "    .dataframe tbody tr th {\n",
       "        vertical-align: top;\n",
       "    }\n",
       "\n",
       "    .dataframe thead th {\n",
       "        text-align: right;\n",
       "    }\n",
       "</style>\n",
       "<table border=\"1\" class=\"dataframe\">\n",
       "  <thead>\n",
       "    <tr style=\"text-align: right;\">\n",
       "      <th></th>\n",
       "      <th>passLength</th>\n",
       "      <th>rushLocationType</th>\n",
       "      <th>playType</th>\n",
       "    </tr>\n",
       "  </thead>\n",
       "  <tbody>\n",
       "    <tr>\n",
       "      <th>0</th>\n",
       "      <td>MEDIUM</td>\n",
       "      <td>NaN</td>\n",
       "      <td>MEDIUM</td>\n",
       "    </tr>\n",
       "    <tr>\n",
       "      <th>1</th>\n",
       "      <td>SHORT</td>\n",
       "      <td>NaN</td>\n",
       "      <td>SHORT</td>\n",
       "    </tr>\n",
       "    <tr>\n",
       "      <th>2</th>\n",
       "      <td>SHORT</td>\n",
       "      <td>NaN</td>\n",
       "      <td>SHORT</td>\n",
       "    </tr>\n",
       "    <tr>\n",
       "      <th>3</th>\n",
       "      <td>SHORT</td>\n",
       "      <td>NaN</td>\n",
       "      <td>SHORT</td>\n",
       "    </tr>\n",
       "    <tr>\n",
       "      <th>4</th>\n",
       "      <td>NaN</td>\n",
       "      <td>INSIDE_LEFT</td>\n",
       "      <td>INSIDE_LEFT</td>\n",
       "    </tr>\n",
       "  </tbody>\n",
       "</table>\n",
       "</div>"
      ],
      "text/plain": [
       "  passLength rushLocationType     playType\n",
       "0     MEDIUM              NaN       MEDIUM\n",
       "1      SHORT              NaN        SHORT\n",
       "2      SHORT              NaN        SHORT\n",
       "3      SHORT              NaN        SHORT\n",
       "4        NaN      INSIDE_LEFT  INSIDE_LEFT"
      ]
     },
     "execution_count": 30,
     "metadata": {},
     "output_type": "execute_result"
    }
   ],
   "source": [
    "pass_run_plays_df[\"playType\"] = pass_run_plays_df['passLength'].combine_first(pass_run_plays_df['rushLocationType'])\n",
    "pass_run_plays_df.dropna(subset=['playType'])\n",
    "pass_run_plays_df.head()"
   ]
  },
  {
   "cell_type": "code",
   "execution_count": 31,
   "id": "3ecdc64e-2796-488a-a2c6-1e387df943dc",
   "metadata": {},
   "outputs": [
    {
     "data": {
      "text/plain": [
       "SHORT            4638\n",
       "MEDIUM           3129\n",
       "INSIDE_RIGHT     1941\n",
       "INSIDE_LEFT      1928\n",
       "OUTSIDE_RIGHT    1470\n",
       "OUTSIDE_LEFT     1283\n",
       "LONG              959\n",
       "UNKNOWN           165\n",
       "Name: playType, dtype: int64"
      ]
     },
     "execution_count": 31,
     "metadata": {},
     "output_type": "execute_result"
    }
   ],
   "source": [
    "pass_run_plays_df[\"playType\"].value_counts()"
   ]
  },
  {
   "cell_type": "code",
   "execution_count": 32,
   "id": "a8158e61-5649-40aa-822d-2dbf4add0c55",
   "metadata": {},
   "outputs": [
    {
     "data": {
      "image/png": "[encoded data removed]",
      "text/plain": [
       "<Figure size 432x288 with 1 Axes>"
      ]
     },
     "metadata": {
      "needs_background": "light"
     },
     "output_type": "display_data"
    }
   ],
   "source": [
    "pt_x_ind = ['SHORT', 'MEDIUM', 'INSIDE_RIGHT', 'INSIDE_LEFT',\n",
    "            'OUTSIDE_RIGHT', 'OUTSIDE_LEFT', 'LONG', 'UNKNOWN']\n",
    "\n",
    "plt.barh(pt_x_ind, pass_run_plays_df[\"playType\"].value_counts())\n",
    "plt.title(\"Play Type Frequency\")\n",
    "plt.show()"
   ]
  },
  {
   "cell_type": "code",
   "execution_count": 33,
   "id": "6f28e68f-5b8e-4f15-9d99-90e012fbe506",
   "metadata": {},
   "outputs": [
    {
     "data": {
      "text/plain": [
       "SHORT            0.287646\n",
       "MEDIUM           0.194059\n",
       "INSIDE_RIGHT     0.120380\n",
       "INSIDE_LEFT      0.119573\n",
       "OUTSIDE_RIGHT    0.091168\n",
       "OUTSIDE_LEFT     0.079571\n",
       "LONG             0.059477\n",
       "UNKNOWN          0.010233\n",
       "Name: playType, dtype: float64"
      ]
     },
     "execution_count": 33,
     "metadata": {},
     "output_type": "execute_result"
    }
   ],
   "source": [
    "pass_run_plays_df[\"playType\"].value_counts()/len(pass_run_plays_df)"
   ]
  },
  {
   "cell_type": "code",
   "execution_count": 34,
   "id": "72396d78-8ff6-4b22-95e9-04a9d9b4474f",
   "metadata": {},
   "outputs": [
    {
     "data": {
      "text/plain": [
       "0.9621061771272635"
      ]
     },
     "execution_count": 34,
     "metadata": {},
     "output_type": "execute_result"
    }
   ],
   "source": [
    "sum(pass_run_plays_df[\"playType\"].value_counts()/len(pass_run_plays_df))"
   ]
  },
  {
   "cell_type": "code",
   "execution_count": null,
   "id": "6cd1f978-21bc-4f75-8ce5-4b3cf1580902",
   "metadata": {},
   "outputs": [],
   "source": []
  }
 ],
 "metadata": {
  "kernelspec": {
   "display_name": "Python 3 (ipykernel)",
   "language": "python",
   "name": "python3"
  },
  "language_info": {
   "codemirror_mode": {
    "name": "ipython",
    "version": 3
   },
   "file_extension": ".py",
   "mimetype": "text/x-python",
   "name": "python",
   "nbconvert_exporter": "python",
   "pygments_lexer": "ipython3",
   "version": "3.9.12"
  }
 },
 "nbformat": 4,
 "nbformat_minor": 5
}
