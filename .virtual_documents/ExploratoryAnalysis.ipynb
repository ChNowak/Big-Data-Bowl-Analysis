import pandas as pd
import numpy as np
import matplotlib.pyplot as plt


folder = "nfl-big-data-bowl-2025/"
games_df = pd.read_csv(folder+"games.csv")
player_play_df = pd.read_csv(folder+"player_play.csv")
players_df = pd.read_csv(folder+"players.csv")
plays_df = pd.read_csv(folder+"plays.csv")


games_df.head()


games_df.columns


player_play_df.head()


player_play_df.columns


players_df.head()


players_df.columns


plays_df.head()


plays_df.columns


pass_lengths = plays_df["passLength"].copy()
pass_lengths = pass_lengths.dropna()
plt.hist(pass_lengths, bins=20)
plt.title("Distribution of Pass Lengths")
plt.show()


np.mean(pass_lengths)


np.median(pass_lengths)


np.std(pass_lengths)


pct_short_pass = sum(pass_lengths <= 5)/len(pass_lengths)
pct_med_pass = sum((pass_lengths > 5) & (pass_lengths < 20))/len(pass_lengths)
pct_long_pass = sum(pass_lengths >= 20)/len(pass_lengths)


pct_short_pass


pct_med_pass


pct_long_pass


rush_location = plays_df["rushLocationType"].copy()
rush_location = rush_location.dropna()
r_loc_x_ind = ['INSIDE_RIGHT', 'INSIDE_LEFT', 'OUTSIDE_RIGHT', 'OUTSIDE_LEFT', 'UNKNOWN']
plt.barh(r_loc_x_ind, rush_location.value_counts())
plt.show()


pct_uk = rush_location.value_counts()['UNKNOWN']/len(rush_location)
pct_ol = rush_location.value_counts()['OUTSIDE_LEFT']/len(rush_location)
pct_or = rush_location.value_counts()['OUTSIDE_RIGHT']/len(rush_location)
pct_il = rush_location.value_counts()['INSIDE_LEFT']/len(rush_location)
pct_ir = rush_location.value_counts()['INSIDE_RIGHT']/len(rush_location)


pct_uk


pct_ol


pct_or


pct_il


pct_ir


pass_run_plays_df = plays_df[["passLength", "rushLocationType"]]
pass_run_plays_df.head()


def pass_categorize(l):
    l = float(l)
    if l <= 5:
        return 'SHORT'
    elif l > 5 and l < 20:
        return 'MEDIUM'
    elif l >= 20:
        return 'LONG'
    else:
        return l


pass_run_plays_df['passLength'] = pass_run_plays_df['passLength'].apply(pass_categorize)


pass_run_plays_df.head()


pass_run_plays_df["playType"] = pass_run_plays_df['passLength'].combine_first(pass_run_plays_df['rushLocationType'])
pass_run_plays_df.dropna(subset=['playType'])
pass_run_plays_df.head()


pass_run_plays_df["playType"].value_counts()


pt_x_ind = ['SHORT', 'MEDIUM', 'INSIDE_RIGHT', 'INSIDE_LEFT',
            'OUTSIDE_RIGHT', 'OUTSIDE_LEFT', 'LONG', 'UNKNOWN']

plt.barh(pt_x_ind, pass_run_plays_df["playType"].value_counts())
plt.title("Play Type Frequency")
plt.show()


pass_run_plays_df["playType"].value_counts()/len(pass_run_plays_df)


sum(pass_run_plays_df["playType"].value_counts()/len(pass_run_plays_df))



