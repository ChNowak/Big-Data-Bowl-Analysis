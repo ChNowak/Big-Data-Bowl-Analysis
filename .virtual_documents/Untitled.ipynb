import pandas as pd
import numpy as np
import matplotlib.pyplot as plt
import warnings
warnings.filterwarnings("ignore")


games_df = pd.read_csv("games.csv")
player_play_df = pd.read_csv("player_play.csv")
players_df = pd.read_csv("players.csv")
plays_df = pd.read_csv("plays.csv")


games_df.head()


games_df.columns


player_play_df.head()


player_play_df.columns


players_df.head()


players_df.columns


plays_df.head()


plays_df.columns


pass_run_plays_df = plays_df[['gameId', 'playId', "passLength", "rushLocationType"]]
pass_run_plays_df.head()


def pass_categorize(l):
    l = float(l)
    if l <= 5:
        return 'SHORT'
    elif l > 5 and l < 20:
        return 'MEDIUM'
    elif l >= 20:
        return 'LONG'
    else:
        return l


pass_run_plays_df['passLength'] = pass_run_plays_df['passLength'].apply(pass_categorize)
pass_run_plays_df.head()


pass_run_plays_df["playType"] = pass_run_plays_df['passLength'].combine_first(pass_run_plays_df['rushLocationType'])
pass_run_plays_df.dropna(subset=['playType'])
pass_run_plays_df = pass_run_plays_df[["gameId", "playId", "playType"]]
pass_run_plays_df.head()


pt_x_ind = ['SHORT', 'MEDIUM', 'INSIDE_RIGHT', 'INSIDE_LEFT',
            'OUTSIDE_RIGHT', 'OUTSIDE_LEFT', 'LONG', 'UNKNOWN']

plt.barh(pt_x_ind, pass_run_plays_df["playType"].value_counts())
plt.title("Play Type Frequency")
plt.show()


player_play_motion_df = player_play_df[["gameId", "playId", "motionSinceLineset"]]
player_play_motion_df.head()


player_play_motion_df = player_play_motion_df.groupby(["gameId", "playId"])["motionSinceLineset"].any().reset_index()
player_play_motion_df.head()


len(plays_df)


pass_run_plays_df


motion_analysis_1_df = pd.merge(pass_run_plays_df,
                               player_play_motion_df,
                               on = ["gameId", "playId"],
                               how = 'inner')

motion_analysis_1_df


motion_play_results = motion_analysis_1_df[motion_analysis_1_df['motionSinceLineset'] == True]["playType"]
motion_play_results.value_counts()


motion_x_ind  = ["SHORT", "MEDIUM", "INSIDE_LEFT", "INSIDE_RIGHT",
                 "LONG", "OUTSIDE_RIGHT", "OUTSIDE_LEFT", "UNKNOWN"]

plt.barh(motion_x_ind, motion_play_results.value_counts())
plt.show()


no_motion_play_results = motion_analysis_1_df[motion_analysis_1_df['motionSinceLineset'] == False]["playType"]
no_motion_play_results.value_counts()


no_motion_x_ind  = ["SHORT", "MEDIUM", "INSIDE_RIGHT", "INSIDE_LEFT",
                    "OUTSIDE_RIGHT", "OUTSIDE_LEFT", "LONG", "UNKNOWN"]

plt.barh(no_motion_x_ind, no_motion_play_results.value_counts(), c='o')
plt.show()



